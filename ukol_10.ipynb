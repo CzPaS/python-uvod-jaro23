{
 "cells": [
  {
   "attachments": {},
   "cell_type": "markdown",
   "metadata": {},
   "source": [
    "Zadání 1"
   ]
  },
  {
   "cell_type": "code",
   "execution_count": null,
   "metadata": {},
   "outputs": [],
   "source": [
    "import pandas as pd"
   ]
  },
  {
   "cell_type": "code",
   "execution_count": null,
   "metadata": {},
   "outputs": [],
   "source": [
    "zam_praha = pd.read_csv(\"zam_praha.txt\")\n",
    "zam_praha[\"mesto\"] = \"Praha\"\n",
    "zam_praha"
   ]
  },
  {
   "cell_type": "code",
   "execution_count": null,
   "metadata": {},
   "outputs": [],
   "source": [
    "zam_plzen = pd.read_csv(\"zam_plzeň.txt\")\n",
    "zam_plzen[\"mesto\"] = \"Plzeň\"\n",
    "zam_plzen"
   ]
  },
  {
   "cell_type": "code",
   "execution_count": null,
   "metadata": {},
   "outputs": [],
   "source": [
    "zam_liberec = pd.read_csv(\"zam_liberec.txt\")\n",
    "zam_liberec[\"mesto\"] = \"Liberec\"\n",
    "zam_liberec"
   ]
  },
  {
   "cell_type": "code",
   "execution_count": null,
   "metadata": {},
   "outputs": [],
   "source": [
    "zamestnanci = pd.concat([zam_praha, zam_plzen, zam_liberec], ignore_index = True)\n",
    "zamestnanci\n",
    "#zamestnanci.shape"
   ]
  },
  {
   "cell_type": "code",
   "execution_count": null,
   "metadata": {},
   "outputs": [],
   "source": [
    "platy_2021_02 = pd.read_csv(\"platy_2021_02.txt\")\n",
    "platy_2021_02.head()\n",
    "#platy_2021_02.shape"
   ]
  },
  {
   "cell_type": "code",
   "execution_count": null,
   "metadata": {},
   "outputs": [],
   "source": [
    "platy_zam = pd.merge(zamestnanci, platy_2021_02, on=['cislo_zamestnance'])\n",
    "platy_zam\n"
   ]
  },
  {
   "cell_type": "code",
   "execution_count": null,
   "metadata": {},
   "outputs": [],
   "source": [
    "platy_zam1 = pd.merge(zamestnanci, platy_2021_02, on=['cislo_zamestnance'], how = \"outer\")\n",
    "platy_zam1"
   ]
  },
  {
   "cell_type": "code",
   "execution_count": null,
   "metadata": {},
   "outputs": [],
   "source": [
    "platy_zam.groupby(\"mesto\")[\"plat\"].mean().round(2)"
   ]
  },
  {
   "attachments": {},
   "cell_type": "markdown",
   "metadata": {},
   "source": [
    "Zadání 2"
   ]
  },
  {
   "cell_type": "code",
   "execution_count": null,
   "metadata": {},
   "outputs": [],
   "source": [
    "vykazy = pd.read_csv(\"vykazy.txt\")\n",
    "vykazy.head(10)"
   ]
  },
  {
   "cell_type": "code",
   "execution_count": null,
   "metadata": {},
   "outputs": [],
   "source": [
    "vykazy.groupby(\"project\")[\"hours\"].sum()"
   ]
  },
  {
   "attachments": {},
   "cell_type": "markdown",
   "metadata": {},
   "source": [
    "Bonus 1"
   ]
  },
  {
   "cell_type": "code",
   "execution_count": null,
   "metadata": {},
   "outputs": [],
   "source": [
    "nepracujici = platy_zam1[platy_zam1['plat'].isnull()]\n",
    "nepracujici"
   ]
  },
  {
   "cell_type": "code",
   "execution_count": null,
   "metadata": {},
   "outputs": [],
   "source": [
    "nepracujici.info()\n",
    "\n",
    "#13 záznamů - nepracujících"
   ]
  },
  {
   "cell_type": "code",
   "execution_count": null,
   "metadata": {},
   "outputs": [],
   "source": [
    "nepracuji = platy_zam1[platy_zam1['plat'].isnull()]\n",
    "nepracuji"
   ]
  },
  {
   "attachments": {},
   "cell_type": "markdown",
   "metadata": {},
   "source": [
    "Bonus 2"
   ]
  },
  {
   "cell_type": "code",
   "execution_count": null,
   "metadata": {},
   "outputs": [],
   "source": [
    "vykazy_nove = vykazy.rename(columns={'emloyee_id':'cislo_zamestnance'})\n",
    "vykazy_nove"
   ]
  },
  {
   "cell_type": "code",
   "execution_count": null,
   "metadata": {},
   "outputs": [],
   "source": [
    "nepracujici_vykazy = pd.merge(nepracuji, vykazy_nove, on=['cislo_zamestnance'])\n",
    "nepracujici_vykazy"
   ]
  },
  {
   "cell_type": "code",
   "execution_count": null,
   "metadata": {},
   "outputs": [],
   "source": [
    "nepracujici_vykazy.groupby([\"project\",'mesto'])[\"hours\"].sum()"
   ]
  }
 ],
 "metadata": {
  "kernelspec": {
   "display_name": "Python 3",
   "language": "python",
   "name": "python3"
  },
  "language_info": {
   "codemirror_mode": {
    "name": "ipython",
    "version": 3
   },
   "file_extension": ".py",
   "mimetype": "text/x-python",
   "name": "python",
   "nbconvert_exporter": "python",
   "pygments_lexer": "ipython3",
   "version": "3.9.10"
  },
  "orig_nbformat": 4
 },
 "nbformat": 4,
 "nbformat_minor": 2
}
